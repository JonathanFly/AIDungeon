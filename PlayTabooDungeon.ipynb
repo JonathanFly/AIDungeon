{
  "nbformat": 4,
  "nbformat_minor": 0,
  "metadata": {
    "colab": {
      "name": "PlayTabooDungeon.ipynb",
      "provenance": [],
      "collapsed_sections": [],
      "toc_visible": true
    },
    "kernelspec": {
      "name": "python3",
      "display_name": "Python 3"
    },
    "accelerator": "GPU"
  },
  "cells": [
    {
      "cell_type": "markdown",
      "metadata": {
        "id": "vTDqHYF-Eu4O",
        "colab_type": "text"
      },
      "source": [
        ""
      ]
    },
    {
      "cell_type": "markdown",
      "metadata": {
        "id": "vwn5a7802oFY",
        "colab_type": "text"
      },
      "source": [
        "![BYU PCCL](https://pcc4318.files.wordpress.com/2018/02/asset-1.png?w=277)\n",
        "\n",
        "Sponsored by the [BYU PCCL Lab](https://).\n",
        "\n",
        "# AIDungeon2: Taboo Special Edition\n",
        "\n",
        "This is a silly hack that adds a Taboo minigame alongside the regular AI Dungeon 2.\n",
        "\n",
        "## The model works now, you can run this with bittorrent or you can copy the model file to your own Google Drive. Bittorrent is surprisingly fast right now, though Google Drive is also quick if you have the space.\n",
        "\n",
        "##Bittorent instructions\n",
        "1. Run the first cell\n",
        "2. Run the Bittorent Cell\n",
        "3. Skip the Google Drive Cells\n",
        "4. Run the Play Game cell\n",
        "\n",
        "##Google instructions\n",
        "1. Click this [shared folder link](https://drive.google.com/drive/folders/1XiDD2BD8vLZaJxZpCrNYjscpvnD3EYrP?usp=sharing) before running to get access. In Google Drive, right click on the shared folder `model_v5` and \"Add to My Drive\".\n",
        "2. Skip the Bittorent Cell\n",
        "3. Run the first cell labed Google Drive install. Click the link in the output and follow the instructions to grant Colab access to Google Drive.\n",
        "4. Run the second Google Drive Install cell. This copies the file and takes awhile.\n",
        "5. Run the Play Game Cell.\n",
        "\n",
        "* AI Dungeon 2 Creator: <a href=\"https://twitter.com/nickwalton00?ref_src=twsrc%5Etfw\" class=\"twitter-follow-button\" data-show-count=\"false\">Follow @nickwalton00</a> on twitter for updates.\n",
        "* Taboo Creator <a href=\"https://twitter.com/JonathanFly?ref_src=twsrc%5Etfw\" class=\"twitter-follow-button\" data-show-count=\"false\">Follow @jonathanfly</a> on twitter for updates.\n",
        "\n",
        "## About\n",
        "* While you wait you can [read adventures others have had](https://aidungeon.io/)\n",
        "* [Read more](https://pcc.cs.byu.edu/2019/11/21/ai-dungeon-2-creating-infinitely-generated-text-adventures-with-deep-learning-language-models/) about how AI Dungeon 2 is made.\n",
        "\n",
        "* Please [support AI Dungeon 2](https://www.patreon.com/join/AIDungeon/) to help get it back up."
      ]
    },
    {
      "cell_type": "code",
      "metadata": {
        "id": "EutM5kng3A_-",
        "colab_type": "code",
        "colab": {}
      },
      "source": [
        "#Always Run This Cell\n",
        "!git clone --depth 1 --branch taboo_dungeon https://github.com/JonathanFly/AIDungeon /content/AIDungeon\n",
        "%cd /content/AIDungeon\n",
        "!pip install -r requirements.txt > /dev/null\n",
        "!git clone https://github.com/gutfeeling/word_forms.git\n",
        "!pip install -e word_forms\n",
        "!pip install sty\n",
        "from IPython.display import clear_output \n",
        "clear_output()\n",
        "print(\"Download Complete!\")"
      ],
      "execution_count": 0,
      "outputs": []
    },
    {
      "cell_type": "markdown",
      "metadata": {
        "id": "7usLIb9a3uch",
        "colab_type": "text"
      },
      "source": [
        "Choose Bittorent or Google Drive Install\n"
      ]
    },
    {
      "cell_type": "code",
      "metadata": {
        "id": "_HcB5R-s3YkX",
        "colab_type": "code",
        "colab": {}
      },
      "source": [
        "#Option 1: Bittorent Install\n",
        "!./install.sh"
      ],
      "execution_count": 0,
      "outputs": []
    },
    {
      "cell_type": "code",
      "metadata": {
        "id": "iKtiis-D2eF_",
        "colab_type": "code",
        "colab": {}
      },
      "source": [
        "#Option2: Google DRIVE INSTALL Step 1\n",
        "from google.colab import drive\n",
        "drive.mount('/content/drive')"
      ],
      "execution_count": 0,
      "outputs": []
    },
    {
      "cell_type": "code",
      "metadata": {
        "id": "eX56CXc93Cg8",
        "colab_type": "code",
        "colab": {}
      },
      "source": [
        "#Option2: Google DRIVE INSTALL Step 2\n",
        "!pip install -r requirements.txt > /dev/null\n",
        "!cp -r /content/drive/\"My Drive\"/model_v5/* \"/content/AIDungeon/generator/gpt2/models/\""
      ],
      "execution_count": 0,
      "outputs": []
    },
    {
      "cell_type": "markdown",
      "metadata": {
        "id": "GojmXeLBExL-",
        "colab_type": "text"
      },
      "source": [
        "Play Game"
      ]
    },
    {
      "cell_type": "code",
      "metadata": {
        "id": "O8ZuxfAAE095",
        "colab_type": "code",
        "colab": {}
      },
      "source": [
        "#Play Taboo\n",
        "from IPython.display import *\n",
        "display(Javascript('''google.colab.output.setIframeHeight(0, true, {maxHeight: 5000})'''))\n",
        "!python play_taboo.py"
      ],
      "execution_count": 0,
      "outputs": []
    },
    {
      "cell_type": "code",
      "metadata": {
        "id": "aPd_TW_zE3ip",
        "colab_type": "code",
        "colab": {}
      },
      "source": [
        "#Play Original Game\n",
        "from IPython.display import *\n",
        "display(Javascript('''google.colab.output.setIframeHeight(0, true, {maxHeight: 5000})'''))\n",
        "!python play.py"
      ],
      "execution_count": 0,
      "outputs": []
    }
  ]
}